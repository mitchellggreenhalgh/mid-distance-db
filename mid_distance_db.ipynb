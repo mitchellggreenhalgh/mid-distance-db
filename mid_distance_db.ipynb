{
 "cells": [
  {
   "cell_type": "code",
   "execution_count": 10,
   "metadata": {},
   "outputs": [
    {
     "data": {
      "text/plain": [
       "0"
      ]
     },
     "execution_count": 10,
     "metadata": {},
     "output_type": "execute_result"
    }
   ],
   "source": [
    "from tkinter import *\n",
    "from tkinter import ttk\n",
    "from tkinter import messagebox\n",
    "import sqlite3\n",
    "from glob import glob\n",
    "\n",
    "class MidDistanceDB:\n",
    "\n",
    "    def launch_app(title:str):\n",
    "        root = Tk()\n",
    "        root.title(title)\n",
    "\n",
    "        # TODO: create and backup database\n",
    "        try:\n",
    "            MidDistanceDB.backup_db()\n",
    "        except:\n",
    "            pass\n",
    "        \n",
    "        # Create Notebook widget\n",
    "        nb = ttk.Notebook(root)\n",
    "        nb.pack(fill='both', expand=1)\n",
    "    \n",
    "        # Frames\n",
    "        # https://docs.python.org/3/library/tkinter.dnd.html#:~:text=The%20tkinter.,drag%2Dand%2Ddrop%20process.\n",
    "        frame_400 = ttk.Frame(nb, padding = '3 3 12 12')\n",
    "\n",
    "        # open input file\n",
    "        # go through it row by row, submitting each row to the database\n",
    "\n",
    "\n",
    "        frame_800 = ttk.Frame(nb, padding = '3 3 12 12')\n",
    "    \n",
    "\n",
    "\n",
    "        nb.add(frame_800, text = '800m Database')\n",
    "        nb.add(frame_400, text = '400m Database')\n",
    "\n",
    "        root.mainloop()\n",
    "        \n",
    "\n",
    "    def maintain_db():\n",
    "        files = glob('*.db')\n",
    "\n",
    "        if len(files) == 0:\n",
    "            MidDistanceDB.create_db()\n",
    "        else:\n",
    "            MidDistanceDB.backup_db()\n",
    "\n",
    "    def create_db(db_name = 'middistanceDB_master.db'):\n",
    "        new_db = sqlite3.connect(db_name)\n",
    "        new_connection = new_db.cursor()\n",
    "\n",
    "        # TODO: 800m table\n",
    "        new_connection.execute('''\n",
    "                            CREATE TABLE splits_400 (\n",
    "                            \n",
    "                                )\n",
    "                            ''')\n",
    "    \n",
    "    def backup_db():\n",
    "        raise NotImplementedError\n",
    "\n",
    "\n",
    "# if __name__ == '__main__':\n",
    "#     MidDistanceDB.launch_app(\"Mid-Distance Database Tool\")\n",
    "\n",
    "\n"
   ]
  }
 ],
 "metadata": {
  "kernelspec": {
   "display_name": "running_database",
   "language": "python",
   "name": "python3"
  },
  "language_info": {
   "codemirror_mode": {
    "name": "ipython",
    "version": 3
   },
   "file_extension": ".py",
   "mimetype": "text/x-python",
   "name": "python",
   "nbconvert_exporter": "python",
   "pygments_lexer": "ipython3",
   "version": "3.9.16"
  },
  "orig_nbformat": 4
 },
 "nbformat": 4,
 "nbformat_minor": 2
}
