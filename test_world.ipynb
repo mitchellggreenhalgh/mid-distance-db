{
 "cells": [
  {
   "cell_type": "code",
   "execution_count": 3,
   "metadata": {},
   "outputs": [
    {
     "data": {
      "text/plain": [
       "('Soheib Dissa', 54.39, 62.19, 116.58, 1.143408715)"
      ]
     },
     "execution_count": 3,
     "metadata": {},
     "output_type": "execute_result"
    }
   ],
   "source": [
    "import pandas as pd\n",
    "\n",
    "data = pd.read_csv('data/processed/uploaded/800m_data_combined_processed.csv')\n",
    "\n",
    "row = data.iloc[3]\n",
    "\n",
    "row = tuple(row)\n",
    "row\n",
    "# for row in range(len(data)):\n",
    "#     print(data.iloc[row])\n"
   ]
  },
  {
   "cell_type": "code",
   "execution_count": 29,
   "metadata": {},
   "outputs": [
    {
     "name": "stdout",
     "output_type": "stream",
     "text": [
      "1\n"
     ]
    }
   ],
   "source": [
    "from glob import glob\n",
    "\n",
    "files = glob('*.db')\n",
    "\n",
    "    # If there's no existing db, make one, else backup the existing one\n",
    "if len(files) == 0:\n",
    "    print(0)\n",
    "else:\n",
    "    print(1)"
   ]
  },
  {
   "cell_type": "code",
   "execution_count": 3,
   "metadata": {},
   "outputs": [
    {
     "name": "stdout",
     "output_type": "stream",
     "text": [
      "Selected: C:/Users/mitch/Documents/Backup Codes/NordVPN.pdf\n"
     ]
    }
   ],
   "source": [
    "import tkinter as tk\n",
    "from tkinter import filedialog\n",
    "\n",
    "def UploadAction(event=None):\n",
    "    filename = filedialog.askopenfilename()\n",
    "    print('Selected:', filename)\n",
    "\n",
    "root = tk.Tk()\n",
    "button = tk.Button(root, text='Open', command=UploadAction)\n",
    "button.pack()\n",
    "\n",
    "root.mainloop()"
   ]
  }
 ],
 "metadata": {
  "kernelspec": {
   "display_name": "running_database",
   "language": "python",
   "name": "python3"
  },
  "language_info": {
   "codemirror_mode": {
    "name": "ipython",
    "version": 3
   },
   "file_extension": ".py",
   "mimetype": "text/x-python",
   "name": "python",
   "nbconvert_exporter": "python",
   "pygments_lexer": "ipython3",
   "version": "3.9.16"
  },
  "orig_nbformat": 4
 },
 "nbformat": 4,
 "nbformat_minor": 2
}
